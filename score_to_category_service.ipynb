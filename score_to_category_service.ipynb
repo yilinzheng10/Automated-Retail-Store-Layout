{
 "cells": [
  {
   "cell_type": "code",
   "execution_count": 1,
   "metadata": {},
   "outputs": [],
   "source": [
    "# test 1\n",
    "def calculate_category_distribution(transit, residential, commercial, attraction):\n",
    "    # Define weights for how each input factor affects each category\n",
    "    weights = {\n",
    "        'Beverage': {'transit': 0.6, 'residential': 0.3, 'commercial': 0.7, 'attraction': 0.7},\n",
    "        'Grab & Go': {'transit': 0.3, 'residential': 0.1, 'commercial': 0.7, 'attraction': 0.7},\n",
    "        'Frozen Food': {'transit': 0.1, 'residential': 0.8, 'commercial': 0.3, 'attraction': 0.1},\n",
    "        'Household Supplies': {'transit': 0.6, 'residential': 0.9, 'commercial': 0.1, 'attraction': 0.1}\n",
    "    }\n",
    "\n",
    "    # Normalize input factors\n",
    "    total_input_score = transit + residential + commercial + attraction\n",
    "    if total_input_score == 0:\n",
    "        return \"All input factors are zero; no distribution can be made.\"\n",
    "\n",
    "    # Calculate raw weighted scores for each category\n",
    "    categories = {}\n",
    "    for category, factor_weights in weights.items():\n",
    "        categories[category] = (\n",
    "            factor_weights['transit'] * transit +\n",
    "            factor_weights['residential'] * residential +\n",
    "            factor_weights['commercial'] * commercial +\n",
    "            factor_weights['attraction'] * attraction\n",
    "        )\n",
    "\n",
    "    # Normalize the raw scores to sum to 100%\n",
    "    total_category_score = sum(categories.values())\n",
    "    for category in categories:\n",
    "        categories[category] = (categories[category] / total_category_score) * 100\n",
    "\n",
    "    # Ensure that each category gets at least 10%\n",
    "    min_allocation = 10\n",
    "    adjustment_needed = 0\n",
    "    adjusted_categories = {}\n",
    "\n",
    "    # Identify categories that are below 10%\n",
    "    for category in categories:\n",
    "        if categories[category] < min_allocation:\n",
    "            adjustment_needed += min_allocation - categories[category]\n",
    "            adjusted_categories[category] = min_allocation\n",
    "        else:\n",
    "            adjusted_categories[category] = categories[category]\n",
    "\n",
    "    # Redistribute the excess space proportionally to the categories that are above 10%\n",
    "    total_adjustable = sum([adjusted_categories[category] for category in adjusted_categories if adjusted_categories[category] > min_allocation])\n",
    "    remaining_space = 100 - sum(adjusted_categories.values())\n",
    "\n",
    "    if remaining_space > 0 and total_adjustable > 0:\n",
    "        scale_factor = remaining_space / total_adjustable\n",
    "        for category in adjusted_categories:\n",
    "            if adjusted_categories[category] > min_allocation:\n",
    "                adjusted_categories[category] += (adjusted_categories[category] - min_allocation) * scale_factor\n",
    "\n",
    "    return adjusted_categories\n"
   ]
  },
  {
   "cell_type": "code",
   "execution_count": 2,
   "metadata": {},
   "outputs": [
    {
     "name": "stdout",
     "output_type": "stream",
     "text": [
      "{'Beverage': 27.71739130434783, 'Grab & Go': 18.478260869565215, 'Frozen Food': 22.82608695652174, 'Household Supplies': 30.978260869565222}\n"
     ]
    }
   ],
   "source": [
    "transit = 3\n",
    "residential = 4\n",
    "commercial = 2\n",
    "attraction = 1\n",
    "\n",
    "distribution = calculate_category_distribution(transit, residential, commercial, attraction)\n",
    "print(distribution)\n"
   ]
  },
  {
   "cell_type": "code",
   "execution_count": 1,
   "metadata": {},
   "outputs": [],
   "source": [
    "def calculate_layout_with_services(transit, residential, commercial, attraction):\n",
    "    # Define weights for category allocation\n",
    "    category_weights = {\n",
    "        'Beverage': {'transit': 0.6, 'residential': 0.3, 'commercial': 0.7, 'attraction': 0.7},\n",
    "        'Grab & Go': {'transit': 0.3, 'residential': 0.1, 'commercial': 0.7, 'attraction': 0.7},\n",
    "        'Frozen Food': {'transit': 0.1, 'residential': 0.8, 'commercial': 0.3, 'attraction': 0.1},\n",
    "        'Household Supplies': {'transit': 0.6, 'residential': 0.9, 'commercial': 0.1, 'attraction': 0.1}\n",
    "    }\n",
    "    \n",
    "    # Optional services with weights\n",
    "    services_weights = {\n",
    "        'Pick-up lockers': {'transit': 0.8, 'residential': 0.9, 'commercial': 0.3, 'attraction': 0.1},\n",
    "        'Coffee service': {'transit': 0.4, 'residential': 0.7, 'commercial': 0.8, 'attraction': 0.1},\n",
    "        'Seats': {'transit': 0.3, 'residential': 0.1, 'commercial': 0.7, 'attraction': 0.8},\n",
    "        'Self-checkout kiosk': {'commercial': 0.5, 'transit': 0.5},\n",
    "        'Lunch stands': {'transit': 0.3, 'residential': 0.7, 'commercial': 0.8, 'attraction': 0.3},\n",
    "        'Bakery goods': {'transit': 0.3, 'residential': 0.8, 'commercial': 0.6, 'attraction': 0.2},\n",
    "        'Fresh sweet treats': {'transit': 0.6, 'residential': 0.8, 'commercial': 0.3, 'attraction': 0.8}\n",
    "    }\n",
    "\n",
    "    # Area assumptions for services if added\n",
    "    service_area_requirements = {\n",
    "        'Pick-up lockers': 5,\n",
    "        'Coffee service': 5,\n",
    "        'Seats': 5,\n",
    "        'Self-checkout kiosk': 6,\n",
    "        'Lunch stands': 10,\n",
    "        'Bakery goods': 3,\n",
    "        'Fresh sweet treats': 10\n",
    "    }\n",
    "\n",
    "# Calculate initial category scores based on weights\n",
    "    category_scores = {}\n",
    "    for category, factors in category_weights.items():\n",
    "        category_scores[category] = (\n",
    "            factors['transit'] * transit + \n",
    "            factors['residential'] * residential + \n",
    "            factors['commercial'] * commercial + \n",
    "            factors['attraction'] * attraction\n",
    "        )\n",
    "    \n",
    "    # Normalize category scores to sum to 100%\n",
    "    total_score = sum(category_scores.values())\n",
    "    for category in category_scores:\n",
    "        category_scores[category] = (category_scores[category] / total_score) * 100\n",
    "\n",
    "    # Calculate scores for optional services\n",
    "    service_scores = {}\n",
    "    for service, factors in services_weights.items():\n",
    "        service_scores[service] = sum(factors[factor] * eval(factor) for factor in factors)\n",
    "    \n",
    "    # Determine which services to add based on score > 5\n",
    "    added_services = {}\n",
    "    total_service_area = 0\n",
    "    max_service_area = 30  # Max 30% of layout area for services\n",
    "\n",
    "    for service, score in service_scores.items():\n",
    "        if score > 5 and (total_service_area + service_area_requirements[service]) <= max_service_area:\n",
    "            added_services[service] = service_area_requirements[service]\n",
    "            total_service_area += service_area_requirements[service]\n",
    "    \n",
    "    # Adjust category areas to fit within the remaining layout space\n",
    "    remaining_area_for_categories = 100 - total_service_area\n",
    "    adjusted_categories = {}\n",
    "    for category in category_scores:\n",
    "        adjusted_categories[category] = (category_scores[category] / 100) * remaining_area_for_categories\n",
    "\n",
    "    # Combine adjusted categories and added services\n",
    "    layout_allocation = {'Categories': adjusted_categories, 'Added Services': added_services}\n",
    "    \n",
    "    return layout_allocation"
   ]
  },
  {
   "cell_type": "code",
   "execution_count": 3,
   "metadata": {},
   "outputs": [
    {
     "name": "stdout",
     "output_type": "stream",
     "text": [
      "{'Categories': {'Beverage': 26.292682926829265, 'Grab & Go': 22.53658536585366, 'Frozen Food': 9.21951219512195, 'Household Supplies': 11.95121951219512}, 'Added Services': {'Coffee service': 5, 'Seats': 5, 'Lunch stands': 10, 'Fresh sweet treats': 10}}\n"
     ]
    }
   ],
   "source": [
    "# TIMES SQUARE\n",
    "transit = 3\n",
    "residential = 1\n",
    "commercial = 4\n",
    "attraction = 4\n",
    "\n",
    "layout = calculate_layout_with_services(transit, residential, commercial, attraction)\n",
    "print(layout)"
   ]
  },
  {
   "cell_type": "code",
   "execution_count": 2,
   "metadata": {},
   "outputs": [
    {
     "name": "stdout",
     "output_type": "stream",
     "text": [
      "{'Categories': {'Beverage': 21.809210526315788, 'Grab & Go': 15.657894736842104, 'Frozen Food': 22.36842105263158, 'Household Supplies': 25.164473684210527}, 'Added Services': {'Pick-up lockers': 5, 'Fresh sweet treats': 10}}\n"
     ]
    }
   ],
   "source": [
    "# WASHINGTON SQUARE PARK\n",
    "transit = 1\n",
    "residential = 4\n",
    "commercial = 2\n",
    "attraction = 1\n",
    "\n",
    "layout = calculate_layout_with_services(transit, residential, commercial, attraction)\n",
    "print(layout)"
   ]
  },
  {
   "cell_type": "code",
   "execution_count": 6,
   "metadata": {},
   "outputs": [
    {
     "name": "stdout",
     "output_type": "stream",
     "text": [
      "{'Categories': {'Beverage': 20.625000000000004, 'Grab & Go': 14.208333333333334, 'Frozen Food': 18.791666666666668, 'Household Supplies': 23.375000000000004}, 'Added Services': {'Pick-up lockers': 5, 'Coffee service': 5, 'Lunch stands': 10, 'Bakery goods': 3}}\n"
     ]
    }
   ],
   "source": [
    "# LIC\n",
    "transit = 2\n",
    "residential = 4\n",
    "commercial = 2\n",
    "attraction = 1\n",
    "\n",
    "layout = calculate_layout_with_services(transit, residential, commercial, attraction)\n",
    "print(layout)"
   ]
  }
 ],
 "metadata": {
  "kernelspec": {
   "display_name": "Python 3",
   "language": "python",
   "name": "python3"
  },
  "language_info": {
   "codemirror_mode": {
    "name": "ipython",
    "version": 3
   },
   "file_extension": ".py",
   "mimetype": "text/x-python",
   "name": "python",
   "nbconvert_exporter": "python",
   "pygments_lexer": "ipython3",
   "version": "3.12.3"
  }
 },
 "nbformat": 4,
 "nbformat_minor": 2
}
