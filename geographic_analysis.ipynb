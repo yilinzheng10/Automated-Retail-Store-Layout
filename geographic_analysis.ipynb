{
 "cells": [
  {
   "cell_type": "code",
   "execution_count": 3,
   "metadata": {},
   "outputs": [
    {
     "name": "stdout",
     "output_type": "stream",
     "text": [
      "Store counts by zip code:\n",
      "Zip Code\n",
      "11211    150\n",
      "11206    124\n",
      "11101     96\n",
      "10001     46\n",
      "11249     43\n",
      "10012     38\n",
      "10036     37\n",
      "Name: count, dtype: int64\n"
     ]
    },
    {
     "name": "stderr",
     "output_type": "stream",
     "text": [
      "C:\\Users\\zheng\\AppData\\Local\\Temp\\ipykernel_5160\\2629115881.py:19: SettingWithCopyWarning: \n",
      "A value is trying to be set on a copy of a slice from a DataFrame.\n",
      "Try using .loc[row_indexer,col_indexer] = value instead\n",
      "\n",
      "See the caveats in the documentation: https://pandas.pydata.org/pandas-docs/stable/user_guide/indexing.html#returning-a-view-versus-a-copy\n",
      "  filtered_data[['Longitude', 'Latitude']] = filtered_data['Georeference'].str.extract(r'POINT \\(([^ ]+) ([^ ]+)\\)').astype(float)\n",
      "C:\\Users\\zheng\\AppData\\Local\\Temp\\ipykernel_5160\\2629115881.py:19: SettingWithCopyWarning: \n",
      "A value is trying to be set on a copy of a slice from a DataFrame.\n",
      "Try using .loc[row_indexer,col_indexer] = value instead\n",
      "\n",
      "See the caveats in the documentation: https://pandas.pydata.org/pandas-docs/stable/user_guide/indexing.html#returning-a-view-versus-a-copy\n",
      "  filtered_data[['Longitude', 'Latitude']] = filtered_data['Georeference'].str.extract(r'POINT \\(([^ ]+) ([^ ]+)\\)').astype(float)\n"
     ]
    }
   ],
   "source": [
    "import pandas as pd\n",
    "import folium\n",
    "\n",
    "# Load your data\n",
    "data = pd.read_csv('Retail_Food_Stores_20241010.csv')\n",
    "\n",
    "# List of target zip codes\n",
    "target_zipcodes = ['10036', '10001', '10012', '11101', '11206', '11211', '11249']\n",
    "\n",
    "# Filter for stores in the target zip codes\n",
    "filtered_data = data[data['Zip Code'].astype(str).isin(target_zipcodes)]\n",
    "\n",
    "# Count stores in each zip code\n",
    "store_counts = filtered_data['Zip Code'].value_counts()\n",
    "print(\"Store counts by zip code:\")\n",
    "print(store_counts)\n",
    "\n",
    "# Extract latitude and longitude from 'Georeference' column\n",
    "filtered_data[['Longitude', 'Latitude']] = filtered_data['Georeference'].str.extract(r'POINT \\(([^ ]+) ([^ ]+)\\)').astype(float)\n",
    "\n",
    "# Create a map centered around the NYC area\n",
    "nyc_map = folium.Map(location=[40.7128, -74.0060], zoom_start=12)\n",
    "\n",
    "# Add markers for each store\n",
    "for _, row in filtered_data.iterrows():\n",
    "    folium.Marker(\n",
    "        location=[row['Latitude'], row['Longitude']],\n",
    "        popup=row['DBA Name']\n",
    "    ).add_to(nyc_map)\n",
    "\n",
    "# Display the map\n",
    "nyc_map.save(\"nyc_retail_map.html\")\n"
   ]
  }
 ],
 "metadata": {
  "kernelspec": {
   "display_name": "Python 3",
   "language": "python",
   "name": "python3"
  },
  "language_info": {
   "codemirror_mode": {
    "name": "ipython",
    "version": 3
   },
   "file_extension": ".py",
   "mimetype": "text/x-python",
   "name": "python",
   "nbconvert_exporter": "python",
   "pygments_lexer": "ipython3",
   "version": "3.12.3"
  }
 },
 "nbformat": 4,
 "nbformat_minor": 2
}
