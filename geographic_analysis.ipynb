{
 "cells": [
  {
   "cell_type": "code",
   "execution_count": 1,
   "metadata": {},
   "outputs": [],
   "source": [
    "import pandas as pd\n",
    "import folium\n",
    "import matplotlib.pyplot as plt\n",
    "import matplotlib\n",
    "\n",
    "# Set backend to TkAgg if not running in Jupyter or similar\n",
    "matplotlib.use('TkAgg')\n",
    "\n",
    "# Load your data\n",
    "data = pd.read_csv('Retail_Food_Stores_20241010.csv')\n",
    "\n",
    "# List of target zip codes\n",
    "target_zipcodes = ['10036', '10001', '10012', '11101', '11206', '11211', '11249']\n",
    "\n",
    "# Filter for stores in the target zip codes\n",
    "filtered_data = data[data['Zip Code'].astype(str).isin(target_zipcodes)]"
   ]
  },
  {
   "cell_type": "code",
   "execution_count": 2,
   "metadata": {},
   "outputs": [
    {
     "name": "stdout",
     "output_type": "stream",
     "text": [
      "Store counts by zip code:\n",
      "Zip Code\n",
      "11211    150\n",
      "11206    124\n",
      "11101     96\n",
      "10001     46\n",
      "11249     43\n",
      "10012     38\n",
      "10036     37\n",
      "Name: count, dtype: int64\n"
     ]
    },
    {
     "name": "stderr",
     "output_type": "stream",
     "text": [
      "C:\\Users\\zheng\\AppData\\Local\\Temp\\ipykernel_1236\\2802522985.py:7: SettingWithCopyWarning: \n",
      "A value is trying to be set on a copy of a slice from a DataFrame.\n",
      "Try using .loc[row_indexer,col_indexer] = value instead\n",
      "\n",
      "See the caveats in the documentation: https://pandas.pydata.org/pandas-docs/stable/user_guide/indexing.html#returning-a-view-versus-a-copy\n",
      "  filtered_data[['Longitude', 'Latitude']] = filtered_data['Georeference'].str.extract(r'POINT \\(([^ ]+) ([^ ]+)\\)').astype(float)\n",
      "C:\\Users\\zheng\\AppData\\Local\\Temp\\ipykernel_1236\\2802522985.py:7: SettingWithCopyWarning: \n",
      "A value is trying to be set on a copy of a slice from a DataFrame.\n",
      "Try using .loc[row_indexer,col_indexer] = value instead\n",
      "\n",
      "See the caveats in the documentation: https://pandas.pydata.org/pandas-docs/stable/user_guide/indexing.html#returning-a-view-versus-a-copy\n",
      "  filtered_data[['Longitude', 'Latitude']] = filtered_data['Georeference'].str.extract(r'POINT \\(([^ ]+) ([^ ]+)\\)').astype(float)\n"
     ]
    }
   ],
   "source": [
    "# Count stores in each zip code\n",
    "store_counts = filtered_data['Zip Code'].value_counts()\n",
    "print(\"Store counts by zip code:\")\n",
    "print(store_counts)\n",
    "\n",
    "# Extract latitude and longitude from 'Georeference' column\n",
    "filtered_data[['Longitude', 'Latitude']] = filtered_data['Georeference'].str.extract(r'POINT \\(([^ ]+) ([^ ]+)\\)').astype(float)\n",
    "\n",
    "# Create a map centered around the NYC area\n",
    "nyc_map = folium.Map(location=[40.7128, -74.0060], zoom_start=12)\n",
    "\n",
    "# Add markers for each store\n",
    "for _, row in filtered_data.iterrows():\n",
    "    folium.Marker(\n",
    "        location=[row['Latitude'], row['Longitude']],\n",
    "        popup=row['DBA Name']\n",
    "    ).add_to(nyc_map)\n",
    "\n",
    "# Display the map\n",
    "nyc_map.save(\"nyc_retail_map.html\")\n"
   ]
  },
  {
   "cell_type": "code",
   "execution_count": 19,
   "metadata": {},
   "outputs": [
    {
     "name": "stdout",
     "output_type": "stream",
     "text": [
      "Data saved to store_counts_by_zipcode.csv\n"
     ]
    }
   ],
   "source": [
    "# Group by Zip Code and DBA Name, and get counts\n",
    "grouped_data = filtered_data.groupby(['Zip Code', 'Entity Name']).size().reset_index(name='Count')\n",
    "\n",
    "# Save the grouped data to CSV\n",
    "grouped_data.to_csv(\"store_counts_by_zipcode.csv\", index=False)\n",
    "\n",
    "print(\"Data saved to store_counts_by_zipcode.csv\")"
   ]
  },
  {
   "cell_type": "code",
   "execution_count": 18,
   "metadata": {},
   "outputs": [
    {
     "name": "stdout",
     "output_type": "stream",
     "text": [
      "Unique zip codes in the data:\n",
      "['11729' '13827' '10598' ... '12085' '12186' '12067']\n",
      "\n",
      "Filtered Data:\n",
      "       County  License Number Operation Type Establishment Type  \\\n",
      "16   NEW YORK          762969          Store                  A   \n",
      "17   NEW YORK          762966          Store                  A   \n",
      "18   NEW YORK          762964          Store                  A   \n",
      "86     QUEENS          762293          Store                 AC   \n",
      "186  NEW YORK          761783          Store                 AC   \n",
      "\n",
      "                      Entity Name                DBA Name Street Number  \\\n",
      "16   HUDSON GROUP (HG) RETAIL LLC  HUDSON NEWS STORE #210           NaN   \n",
      "17   HUDSON GROUP (HG) RETAIL LLC  HUDSON NEWS STORE #211           NaN   \n",
      "18   HUDSON GROUP (HG) RETAIL LLC  HUDSON NEWS STORE #212           NaN   \n",
      "86    EAST ASIAN FOOD CORPORATION         EAST ASIAN FOOD          2802   \n",
      "186     PARTNERS IN CHOCOLATE LLC   PARTNERS IN CHOCOLATE           456   \n",
      "\n",
      "             Street Name Address Line 2 Address Line 3              City  \\\n",
      "16   MAIN AMTRAK LEVEL B   PENN STATION            NaN          NEW YORK   \n",
      "17     33RD ST & 8TH AVE   PENN STATION            NaN          NEW YORK   \n",
      "18     33RD ST & 8TH AVE   PENN STATION            NaN          NEW YORK   \n",
      "86               42ND RD            NaN            NaN  LONG ISLAND CITY   \n",
      "186           W BROADWAY            NaN            NaN          NEW YORK   \n",
      "\n",
      "    State Zip Code  Square Footage                        Georeference  \n",
      "16     NY    10001             NaN      POINT (-73.9926754 40.7482307)  \n",
      "17     NY    10001             NaN      POINT (-73.9926754 40.7482307)  \n",
      "18     NY    10001             NaN      POINT (-73.9926754 40.7482307)  \n",
      "86     NY    11101             NaN  POINT (-73.939499363 40.748682849)  \n",
      "186    NY    10012             NaN  POINT (-74.000717725 40.726210294)  \n",
      "\n",
      "Store Counts by Zip Code:\n",
      "Zip Code\n",
      "10036     37\n",
      "10001     46\n",
      "10012     38\n",
      "11101     94\n",
      "11206    123\n",
      "11211    147\n",
      "11249     43\n",
      "Name: DBA Name, dtype: int64\n"
     ]
    },
    {
     "ename": "KeyboardInterrupt",
     "evalue": "",
     "output_type": "error",
     "traceback": [
      "\u001b[1;31m---------------------------------------------------------------------------\u001b[0m",
      "\u001b[1;31mKeyboardInterrupt\u001b[0m                         Traceback (most recent call last)",
      "Cell \u001b[1;32mIn[18], line 31\u001b[0m\n\u001b[0;32m     28\u001b[0m plt\u001b[38;5;241m.\u001b[39mtight_layout()\n\u001b[0;32m     30\u001b[0m \u001b[38;5;66;03m# Show the plot\u001b[39;00m\n\u001b[1;32m---> 31\u001b[0m \u001b[43mplt\u001b[49m\u001b[38;5;241;43m.\u001b[39;49m\u001b[43mshow\u001b[49m\u001b[43m(\u001b[49m\u001b[43mblock\u001b[49m\u001b[38;5;241;43m=\u001b[39;49m\u001b[38;5;28;43;01mTrue\u001b[39;49;00m\u001b[43m)\u001b[49m\n",
      "File \u001b[1;32mc:\\Users\\zheng\\anaconda3\\envs\\geospatial\\lib\\site-packages\\matplotlib\\pyplot.py:612\u001b[0m, in \u001b[0;36mshow\u001b[1;34m(*args, **kwargs)\u001b[0m\n\u001b[0;32m    568\u001b[0m \u001b[38;5;250m\u001b[39m\u001b[38;5;124;03m\"\"\"\u001b[39;00m\n\u001b[0;32m    569\u001b[0m \u001b[38;5;124;03mDisplay all open figures.\u001b[39;00m\n\u001b[0;32m    570\u001b[0m \n\u001b[1;32m   (...)\u001b[0m\n\u001b[0;32m    609\u001b[0m \u001b[38;5;124;03mexplicitly there.\u001b[39;00m\n\u001b[0;32m    610\u001b[0m \u001b[38;5;124;03m\"\"\"\u001b[39;00m\n\u001b[0;32m    611\u001b[0m _warn_if_gui_out_of_main_thread()\n\u001b[1;32m--> 612\u001b[0m \u001b[38;5;28;01mreturn\u001b[39;00m _get_backend_mod()\u001b[38;5;241m.\u001b[39mshow(\u001b[38;5;241m*\u001b[39margs, \u001b[38;5;241m*\u001b[39m\u001b[38;5;241m*\u001b[39mkwargs)\n",
      "File \u001b[1;32mc:\\Users\\zheng\\anaconda3\\envs\\geospatial\\lib\\site-packages\\matplotlib\\backend_bases.py:3553\u001b[0m, in \u001b[0;36m_Backend.show\u001b[1;34m(cls, block)\u001b[0m\n\u001b[0;32m   3551\u001b[0m     block \u001b[38;5;241m=\u001b[39m \u001b[38;5;129;01mnot\u001b[39;00m ipython_pylab \u001b[38;5;129;01mand\u001b[39;00m \u001b[38;5;129;01mnot\u001b[39;00m is_interactive()\n\u001b[0;32m   3552\u001b[0m \u001b[38;5;28;01mif\u001b[39;00m block:\n\u001b[1;32m-> 3553\u001b[0m     \u001b[38;5;28;43mcls\u001b[39;49m\u001b[38;5;241;43m.\u001b[39;49m\u001b[43mmainloop\u001b[49m\u001b[43m(\u001b[49m\u001b[43m)\u001b[49m\n",
      "File \u001b[1;32mc:\\Users\\zheng\\anaconda3\\envs\\geospatial\\lib\\site-packages\\matplotlib\\backends\\_backend_tk.py:520\u001b[0m, in \u001b[0;36mFigureManagerTk.start_main_loop\u001b[1;34m(cls)\u001b[0m\n\u001b[0;32m    518\u001b[0m manager_class\u001b[38;5;241m.\u001b[39m_owns_mainloop \u001b[38;5;241m=\u001b[39m \u001b[38;5;28;01mTrue\u001b[39;00m\n\u001b[0;32m    519\u001b[0m \u001b[38;5;28;01mtry\u001b[39;00m:\n\u001b[1;32m--> 520\u001b[0m     \u001b[43mfirst_manager\u001b[49m\u001b[38;5;241;43m.\u001b[39;49m\u001b[43mwindow\u001b[49m\u001b[38;5;241;43m.\u001b[39;49m\u001b[43mmainloop\u001b[49m\u001b[43m(\u001b[49m\u001b[43m)\u001b[49m\n\u001b[0;32m    521\u001b[0m \u001b[38;5;28;01mfinally\u001b[39;00m:\n\u001b[0;32m    522\u001b[0m     manager_class\u001b[38;5;241m.\u001b[39m_owns_mainloop \u001b[38;5;241m=\u001b[39m \u001b[38;5;28;01mFalse\u001b[39;00m\n",
      "File \u001b[1;32mc:\\Users\\zheng\\anaconda3\\envs\\geospatial\\lib\\tkinter\\__init__.py:1429\u001b[0m, in \u001b[0;36mMisc.mainloop\u001b[1;34m(self, n)\u001b[0m\n\u001b[0;32m   1427\u001b[0m \u001b[38;5;28;01mdef\u001b[39;00m \u001b[38;5;21mmainloop\u001b[39m(\u001b[38;5;28mself\u001b[39m, n\u001b[38;5;241m=\u001b[39m\u001b[38;5;241m0\u001b[39m):\n\u001b[0;32m   1428\u001b[0m \u001b[38;5;250m    \u001b[39m\u001b[38;5;124;03m\"\"\"Call the mainloop of Tk.\"\"\"\u001b[39;00m\n\u001b[1;32m-> 1429\u001b[0m     \u001b[38;5;28;43mself\u001b[39;49m\u001b[38;5;241;43m.\u001b[39;49m\u001b[43mtk\u001b[49m\u001b[38;5;241;43m.\u001b[39;49m\u001b[43mmainloop\u001b[49m\u001b[43m(\u001b[49m\u001b[43mn\u001b[49m\u001b[43m)\u001b[49m\n",
      "\u001b[1;31mKeyboardInterrupt\u001b[0m: "
     ]
    }
   ],
   "source": [
    "# Convert Zip Code column to string and strip any whitespace\n",
    "data['Zip Code'] = data['Zip Code'].astype(str).str.strip()\n",
    "\n",
    "# Check unique values in Zip Code for debugging\n",
    "print(\"Unique zip codes in the data:\")\n",
    "print(data['Zip Code'].unique())\n",
    "\n",
    "# List of target zip codes\n",
    "target_zipcodes = ['10036', '10001', '10012', '11101', '11206', '11211', '11249']\n",
    "\n",
    "# Filter for stores in the target zip codes\n",
    "filtered_data = data[data['Zip Code'].isin(target_zipcodes)]\n",
    "print(\"\\nFiltered Data:\")\n",
    "print(filtered_data.head())  # Debugging step to check if data is filtered correctly\n",
    "\n",
    "# Group by Zip Code and count unique DBA Names (stores) in each zip code\n",
    "store_counts = filtered_data.groupby('Zip Code')['DBA Name'].nunique().reindex(target_zipcodes, fill_value=0)\n",
    "print(\"\\nStore Counts by Zip Code:\")\n",
    "print(store_counts)  # Debugging step to check the store counts\n",
    "\n",
    "# Plotting\n",
    "plt.figure(figsize=(10, 6))\n",
    "store_counts.plot(kind='bar', color='skyblue')\n",
    "plt.title(\"Number of Stores by Zip Code\")\n",
    "plt.xlabel(\"Zip Code\")\n",
    "plt.ylabel(\"Number of Stores\")\n",
    "plt.xticks(rotation=45)\n",
    "plt.tight_layout()\n",
    "\n",
    "# Show the plot\n",
    "plt.show(block=True)"
   ]
  },
  {
   "cell_type": "code",
   "execution_count": 21,
   "metadata": {},
   "outputs": [
    {
     "name": "stderr",
     "output_type": "stream",
     "text": [
      "C:\\Users\\zheng\\AppData\\Local\\Temp\\ipykernel_1236\\2378037374.py:24: SettingWithCopyWarning: \n",
      "A value is trying to be set on a copy of a slice from a DataFrame.\n",
      "Try using .loc[row_indexer,col_indexer] = value instead\n",
      "\n",
      "See the caveats in the documentation: https://pandas.pydata.org/pandas-docs/stable/user_guide/indexing.html#returning-a-view-versus-a-copy\n",
      "  filtered_data[['Longitude', 'Latitude']] = filtered_data['Georeference'].str.extract(r'POINT \\(([^ ]+) ([^ ]+)\\)').astype(float)\n",
      "C:\\Users\\zheng\\AppData\\Local\\Temp\\ipykernel_1236\\2378037374.py:24: SettingWithCopyWarning: \n",
      "A value is trying to be set on a copy of a slice from a DataFrame.\n",
      "Try using .loc[row_indexer,col_indexer] = value instead\n",
      "\n",
      "See the caveats in the documentation: https://pandas.pydata.org/pandas-docs/stable/user_guide/indexing.html#returning-a-view-versus-a-copy\n",
      "  filtered_data[['Longitude', 'Latitude']] = filtered_data['Georeference'].str.extract(r'POINT \\(([^ ]+) ([^ ]+)\\)').astype(float)\n"
     ]
    },
    {
     "name": "stdout",
     "output_type": "stream",
     "text": [
      "Map saved as filtered_retail_map.html\n"
     ]
    }
   ],
   "source": [
    "# List of target zip codes\n",
    "target_zipcodes = ['10036', '10001', '10012', '11101', '11206', '11211', '11249']\n",
    "\n",
    "# Keywords to search for in DBA Name\n",
    "keywords = [\n",
    "    \"Deli\", \"Grocer\", \"Bakery\", \"Bistro\", \"Café\", \"Sweets\", \"Grill\", \n",
    "    \"Mart\", \"Shop\", \"Market\", \"Corner Store\", \"Quick Stop\", \n",
    "    \"Mini\", \"Little\", \"Cozy\", \"Old\", \"New\", \"Tiny\", \"Small\", \"Family\"\n",
    "]\n",
    "\n",
    "# Combine keywords into a regex pattern\n",
    "pattern = '|'.join(keywords)\n",
    "\n",
    "# Convert Zip Code column to string for filtering and strip any whitespace\n",
    "data['Zip Code'] = data['Zip Code'].astype(str).str.strip()\n",
    "\n",
    "# Apply filters: target zip codes and DBA Name keywords\n",
    "filtered_data = data[\n",
    "    data['Zip Code'].isin(target_zipcodes) & \n",
    "    data['DBA Name'].str.contains(pattern, case=False, na=False)\n",
    "]\n",
    "\n",
    "# Extract latitude and longitude from 'Georeference' column\n",
    "filtered_data[['Longitude', 'Latitude']] = filtered_data['Georeference'].str.extract(r'POINT \\(([^ ]+) ([^ ]+)\\)').astype(float)\n",
    "\n",
    "# Create a map centered around the NYC area\n",
    "nyc_map = folium.Map(location=[40.7128, -74.0060], zoom_start=12)\n",
    "\n",
    "# Add markers for each store\n",
    "for _, row in filtered_data.iterrows():\n",
    "    folium.Marker(\n",
    "        location=[row['Latitude'], row['Longitude']],\n",
    "        popup=row['DBA Name']\n",
    "    ).add_to(nyc_map)\n",
    "\n",
    "# Save the map as an HTML file\n",
    "nyc_map.save(\"filtered_retail_map.html\")\n",
    "print(\"Map saved as filtered_retail_map.html\")"
   ]
  },
  {
   "cell_type": "code",
   "execution_count": 23,
   "metadata": {},
   "outputs": [
    {
     "name": "stdout",
     "output_type": "stream",
     "text": [
      "Zip Code 10036: 45.95% of stores match the criteria\n",
      "Zip Code 10001: 45.65% of stores match the criteria\n",
      "Zip Code 10012: 34.21% of stores match the criteria\n",
      "Zip Code 11101: 41.67% of stores match the criteria\n",
      "Zip Code 11206: 62.10% of stores match the criteria\n",
      "Zip Code 11211: 60.00% of stores match the criteria\n",
      "Zip Code 11249: 51.16% of stores match the criteria\n"
     ]
    }
   ],
   "source": [
    "# List of target zip codes\n",
    "target_zipcodes = ['10036', '10001', '10012', '11101', '11206', '11211', '11249']\n",
    "\n",
    "# Keywords to search for in DBA Name\n",
    "keywords = [\n",
    "    \"Deli\", \"Grocer\", \"Bakery\", \"Bistro\", \"Café\", \"Sweets\", \"Grill\", \n",
    "    \"Mart\", \"Shop\", \"Market\", \"Corner Store\", \"Quick Stop\", \n",
    "    \"Mini\", \"Little\", \"Cozy\", \"Old\", \"New\", \"Tiny\", \"Small\", \"Family\"\n",
    "]\n",
    "\n",
    "# Combine keywords into a regex pattern\n",
    "pattern = '|'.join(keywords)\n",
    "\n",
    "# Convert Zip Code column to string for filtering and strip any whitespace\n",
    "data['Zip Code'] = data['Zip Code'].astype(str).str.strip()\n",
    "\n",
    "# Initialize a dictionary to store the percentage results\n",
    "zip_code_percentages = {}\n",
    "\n",
    "# Loop through each target zip code\n",
    "for zip_code in target_zipcodes:\n",
    "    # Filter data for the current zip code\n",
    "    zip_data = data[data['Zip Code'] == zip_code]\n",
    "    total_stores_in_zip = len(zip_data)\n",
    "    \n",
    "    # Filter stores that also match the keywords within this zip code\n",
    "    matching_stores_in_zip = zip_data[zip_data['DBA Name'].str.contains(pattern, case=False, na=False)]\n",
    "    filtered_count = len(matching_stores_in_zip)\n",
    "    \n",
    "    # Calculate percentage for this zip code\n",
    "    percentage = (filtered_count / total_stores_in_zip * 100) if total_stores_in_zip > 0 else 0\n",
    "    zip_code_percentages[zip_code] = percentage\n",
    "\n",
    "# Display the percentages for each zip code\n",
    "for zip_code, pct in zip_code_percentages.items():\n",
    "    print(f\"Zip Code {zip_code}: {pct:.2f}% of stores match the criteria\")"
   ]
  }
 ],
 "metadata": {
  "kernelspec": {
   "display_name": "geospatial",
   "language": "python",
   "name": "python3"
  },
  "language_info": {
   "codemirror_mode": {
    "name": "ipython",
    "version": 3
   },
   "file_extension": ".py",
   "mimetype": "text/x-python",
   "name": "python",
   "nbconvert_exporter": "python",
   "pygments_lexer": "ipython3",
   "version": "3.9.19"
  }
 },
 "nbformat": 4,
 "nbformat_minor": 2
}
